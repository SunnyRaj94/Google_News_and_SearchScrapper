{
 "cells": [
  {
   "cell_type": "markdown",
   "id": "4604f954",
   "metadata": {},
   "source": [
    "### Scrape news articles from google news"
   ]
  },
  {
   "cell_type": "code",
   "execution_count": 1,
   "id": "a485def0",
   "metadata": {},
   "outputs": [],
   "source": [
    "from GoogleRssFeed import *"
   ]
  },
  {
   "cell_type": "raw",
   "id": "18cfec08",
   "metadata": {},
   "source": [
    "PARAMS ---\n",
    "use_proxy_param --- It enables to use proxy for scrapping\n",
    "use_session     --- It uses request-html instead of requests\n",
    "logger          --- if you want to log // you can pass your logger"
   ]
  },
  {
   "cell_type": "code",
   "execution_count": 2,
   "id": "1c690deb",
   "metadata": {},
   "outputs": [],
   "source": [
    "gfeed = GFeed()"
   ]
  },
  {
   "cell_type": "raw",
   "id": "10af9639",
   "metadata": {},
   "source": [
    "you can scrape articles from any of these topics -- \n",
    "COVID-19,WORLD,NATION,BUSINESS,TECHNOLOGY,ENTERTAINMENT,SCIENCE,SPORTS,HEALTH\n",
    "\n",
    "you can scrape articles from any of these languages -- \n",
    "ta,gu,en,bn,kn,mr,te,ml,hi"
   ]
  },
  {
   "cell_type": "code",
   "execution_count": 3,
   "id": "d81b37db",
   "metadata": {},
   "outputs": [
    {
     "name": "stdout",
     "output_type": "stream",
     "text": [
      "https://news.google.com/rss/headlines/section/topic/BUSINESS?when%3A10h&hl=hi&gl=IN&ceid=IN%3Ahi\n"
     ]
    }
   ],
   "source": [
    "lang,topic,hours='hi','BUSINESS',10\n",
    "topic_url = gfeed.make_topic_url(lang,topic,hours)"
   ]
  },
  {
   "cell_type": "code",
   "execution_count": 4,
   "id": "8fba7885",
   "metadata": {},
   "outputs": [
    {
     "name": "stdout",
     "output_type": "stream",
     "text": [
      "we got total :  34  articles\n"
     ]
    }
   ],
   "source": [
    "lang,topic,hours='hi','BUSINESS',10\n",
    "topic_url = gfeed.make_topic_url(lang,topic,hours)\n",
    "articles = gfeed.get_articles(topic_url)\n",
    "print(\"we got total : \",len(articles),\" articles\")"
   ]
  },
  {
   "cell_type": "code",
   "execution_count": 5,
   "id": "de44fb7b",
   "metadata": {},
   "outputs": [
    {
     "data": {
      "text/plain": [
       "dict_keys(['title', 'link', 'pubDate', 'description'])"
      ]
     },
     "execution_count": 5,
     "metadata": {},
     "output_type": "execute_result"
    }
   ],
   "source": [
    "articles[0].keys()"
   ]
  },
  {
   "cell_type": "code",
   "execution_count": 6,
   "id": "043ae1e3",
   "metadata": {},
   "outputs": [
    {
     "data": {
      "text/plain": [
       "{'title': 'Taking Stock: यूक्रेन पर रूस की नरमी से बाजार में रौनक, निफ्टी में दिखी 509 अंकों की इंट्रा-डे तेजी, - मनी कंट्रोल',\n",
       " 'link': 'https://news.google.com/__i/rss/rd/articles/CBMixgFodHRwczovL2hpbmRpLm1vbmV5Y29udHJvbC5jb20vbmV3cy9tYXJrZXRzL3Rha2luZy1zdG9jay1ydXNzaWFzLXNvZnRuZXNzLW9uLXVrcmFpbmUtYnJpZ2h0ZW5zLXRoZS1tYXJrZXQtbmlmdHktc2Vlcy1hbi1pbnRyYS1kYXktcmlzZS1vZi01MDktcG9pbnRzLWtub3ctaG93LXRoZS1tYXJrZXQtbWF5LW1vdmUtdG9tb3Jyb3ctNDQ4NTMxLmh0bWzSAQA?oc=5',\n",
       " 'pubDate': 'Tue, 15 Feb 2022 11:41:00 GMT',\n",
       " 'description': '<ol><li><a href=\"https://news.google.com/__i/rss/rd/articles/CBMixgFodHRwczovL2hpbmRpLm1vbmV5Y29udHJvbC5jb20vbmV3cy9tYXJrZXRzL3Rha2luZy1zdG9jay1ydXNzaWFzLXNvZnRuZXNzLW9uLXVrcmFpbmUtYnJpZ2h0ZW5zLXRoZS1tYXJrZXQtbmlmdHktc2Vlcy1hbi1pbnRyYS1kYXktcmlzZS1vZi01MDktcG9pbnRzLWtub3ctaG93LXRoZS1tYXJrZXQtbWF5LW1vdmUtdG9tb3Jyb3ctNDQ4NTMxLmh0bWzSAQA?oc=5\" target=\"_blank\">Taking Stock: यूक्रेन पर रूस की नरमी से बाजार में रौनक, निफ्टी में दिखी 509 अंकों की इंट्रा-डे तेजी,</a>&nbsp;&nbsp;<font color=\"#6f6f6f\">मनी कंट्रोल</font></li><li><a href=\"https://news.google.com/__i/rss/rd/articles/CBMipgFodHRwczovL3d3dy56ZWViaXouY29tL2hpbmRpL3N0b2NrLW1hcmtldHMvbGl2ZS11cGRhdGVzLXN0b2NrLW1hcmtldC1saXZlLW9uLTE1LWZlYnJ1YXJ5LWRvdy1qb25lcy1zZ3gtbmlmdHktbmFzZGFxLWdsb2JhbC1tYXJrZXQtdHJlbmRzLWFuZC1hc2lhbi1tYXJrZXQtdXBkYXRlLTc0NDUx0gEA?oc=5\" target=\"_blank\">Share Market Updates: 3% बढ़त के साथ बाजार बंद, सेंसेक्स 1700 अंक चढ़ा, 17300 के पार निफ्टी</a>&nbsp;&nbsp;<font color=\"#6f6f6f\">Zee Business हिंदी</font></li><li><a href=\"https://news.google.com/__i/rss/rd/articles/CBMie2h0dHBzOi8vaGluZGkubmV3czE4LmNvbS9uZXdzL2J1c2luZXNzL3N0b2NrLW1hcmtldC1jbG9zaW5nLXNlbnNleC1qdW1wZWQtYnktMTcwMC1wb2ludHMtbmlmdHktYWxzby1yaXNlcy1zYW1wLTQwMTE5NTcuaHRtbNIBAA?oc=5\" target=\"_blank\">Stock Market: शेयर बाजार में जबरदस्त तेजी, Sensex 1700 अंक उछलकर हुआ बंद, निफ्टी 17300 के पार</a>&nbsp;&nbsp;<font color=\"#6f6f6f\">News18 हिंदी</font></li><li><a href=\"https://news.google.com/__i/rss/rd/articles/CBMipwFodHRwczovL2hpbmRpLm1vbmV5Y29udHJvbC5jb20vbmV3cy9vcGluaW9uL3NoYXJlLW1hcmtldC1saXZlLXVwZGF0ZXMtc3RvY2stbWFya2V0LXRvZGF5LWZlYi0xNS1sYXRlc3QtbmV3cy1ic2UtbnNlLXNlbnNleC1uaWZ0eS1jb3JvbmF2aXJ1cy1yaWwtY2lwbGEtYmhlbC00NDcxOTEuaHRtbNIBAA?oc=5\" target=\"_blank\">Closing Bell: सेसेंक्स 1736 अंक चढ़ा, निफ्टी 17300 के ऊपर हुआ बंद, ऑटो, बैंक, मेटल, आईटी शेयर में रह</a>&nbsp;&nbsp;<font color=\"#6f6f6f\">मनी कंट्रोल</font></li><li><a href=\"https://news.google.com/__i/rss/rd/articles/CBMilQFodHRwczovL25hdmJoYXJhdHRpbWVzLmluZGlhdGltZXMuY29tL25hdmJoYXJhdGdvbGQvZWNvbm9teS9zaGFyZS1tYXJrZXQtbmV3cy11cGRhdGVzLWp1bXAtaW4tc2Vuc2V4LW5zZS1ic2Utc3RvY2stbWFya2V0LWluLWhpbmRpL3N0b3J5Lzg5NTk1NjgxLmNtc9IBAA?oc=5\" target=\"_blank\">यूक्रेन बॉर्डर से खुशखबरी, सेंसेक्स में रेकॉर्ड उछाल</a>&nbsp;&nbsp;<font color=\"#6f6f6f\">नवभारत टाइम्स</font></li><li><strong><a href=\"https://news.google.com/stories/CAAqNggKIjBDQklTSGpvSmMzUnZjbmt0TXpZd1NoRUtEd2lqcDdqckJCRS1oVlRHdzlSMU95Z0FQAQ?oc=5\" target=\"_blank\">Google समाचार पर पूरी खबर देखें</a></strong></li></ol>'}"
      ]
     },
     "execution_count": 6,
     "metadata": {},
     "output_type": "execute_result"
    }
   ],
   "source": [
    "articles[0]"
   ]
  },
  {
   "cell_type": "markdown",
   "id": "f8943aff",
   "metadata": {},
   "source": [
    "### Scrape results from google search"
   ]
  },
  {
   "cell_type": "code",
   "execution_count": 14,
   "id": "43190412",
   "metadata": {},
   "outputs": [],
   "source": [
    "from GoogleSearch import *"
   ]
  },
  {
   "cell_type": "raw",
   "id": "d5b62db7",
   "metadata": {},
   "source": [
    "PARAMS ---\n",
    "use_proxy_param --- It enables to use proxy for scrapping\n",
    "use_session     --- It uses request-html instead of requests\n",
    "logger          --- if you want to log // you can pass your logger"
   ]
  },
  {
   "cell_type": "code",
   "execution_count": 7,
   "id": "85c67d06",
   "metadata": {},
   "outputs": [],
   "source": [
    "gs = GSearch(use_proxy_param=False,use_session=True)"
   ]
  },
  {
   "cell_type": "code",
   "execution_count": 8,
   "id": "916c3a7f",
   "metadata": {
    "scrolled": true
   },
   "outputs": [
    {
     "name": "stdout",
     "output_type": "stream",
     "text": [
      "9\n"
     ]
    }
   ],
   "source": [
    "query = \"Cooking\" ## search term \n",
    "## search type \n",
    "query,search_type,site,page_count = query, \"\" , \"twitter.com\" , 5\n",
    "query_urls = gs._generate_urls_(query,search_type,page_count,site=site)\n",
    "query_results = gs.get_results(query_urls[0:1])\n",
    "print(len(query_results))"
   ]
  },
  {
   "cell_type": "code",
   "execution_count": 9,
   "id": "41e72b6c",
   "metadata": {},
   "outputs": [
    {
     "data": {
      "text/plain": [
       "[{'title': '#cooking - Twitter Search / Twitter',\n",
       "  'description': '#cooking - Twitter Search / Twitterhttps://twitter.com › hashtag › cookinghttps://twitter.com › hashtag › cookingSee Tweets about #cooking on Twitter. ... Cooking Channel serves up a world of global cuisines and cooking techniques -- for Food People, by Food People.',\n",
       "  'links': ['https://twitter.com/hashtag/cooking']},\n",
       " {'title': 'Cooking Channel (@CookingChannel) / Twitter',\n",
       "  'description': 'Web resultsCooking Channel (@CookingChannel) / Twitterhttps://twitter.com › cookingchannelhttps://twitter.com › cookingchannelFrom the people who brought you Food Network, Cooking Channel serves up a world of global cuisines and cooking techniques -- for Food People,\\xa0...07-Feb-2022',\n",
       "  'links': ['https://twitter.com/cookingchannel']},\n",
       " {'title': 'NYT Cooking and Food (@nytfood) / Twitter',\n",
       "  'description': 'NYT Cooking and Food (@nytfood) / Twitterhttps://twitter.com › nytfoodhttps://twitter.com › nytfood23 hours ago — The savviest home cooks and recipe creators always think about how to streamline and innovate in ways big and small, and these 24 baking recipes illustrate just\\xa0...',\n",
       "  'links': ['https://twitter.com/nytfood']}]"
      ]
     },
     "execution_count": 9,
     "metadata": {},
     "output_type": "execute_result"
    }
   ],
   "source": [
    "query_results[:3]"
   ]
  }
 ],
 "metadata": {
  "kernelspec": {
   "display_name": "Python 3",
   "language": "python",
   "name": "python3"
  },
  "language_info": {
   "codemirror_mode": {
    "name": "ipython",
    "version": 3
   },
   "file_extension": ".py",
   "mimetype": "text/x-python",
   "name": "python",
   "nbconvert_exporter": "python",
   "pygments_lexer": "ipython3",
   "version": "3.8.8"
  }
 },
 "nbformat": 4,
 "nbformat_minor": 5
}
