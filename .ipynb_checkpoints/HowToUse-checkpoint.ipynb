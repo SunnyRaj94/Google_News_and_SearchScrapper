{
 "cells": [
  {
   "cell_type": "markdown",
   "id": "4604f954",
   "metadata": {},
   "source": [
    "### Scrape news articles from google news"
   ]
  },
  {
   "cell_type": "code",
   "execution_count": 1,
   "id": "a485def0",
   "metadata": {},
   "outputs": [],
   "source": [
    "from GoogleRssFeed import *"
   ]
  },
  {
   "cell_type": "raw",
   "id": "18cfec08",
   "metadata": {},
   "source": [
    "PARAMS ---\n",
    "use_proxy_param --- It enables to use proxy for scrapping\n",
    "use_session     --- It uses request-html instead of requests\n",
    "logger          --- if you want to log // you can pass your logger"
   ]
  },
  {
   "cell_type": "code",
   "execution_count": 2,
   "id": "1c690deb",
   "metadata": {},
   "outputs": [],
   "source": [
    "gfeed = GFeed()"
   ]
  },
  {
   "cell_type": "raw",
   "id": "10af9639",
   "metadata": {},
   "source": [
    "you can scrape articles from any of these topics -- \n",
    "COVID-19,WORLD,NATION,BUSINESS,TECHNOLOGY,ENTERTAINMENT,SCIENCE,SPORTS,HEALTH\n",
    "\n",
    "you can scrape articles from any of these languages -- \n",
    "ta,gu,en,bn,kn,mr,te,ml,hi"
   ]
  },
  {
   "cell_type": "code",
   "execution_count": 3,
   "id": "d81b37db",
   "metadata": {},
   "outputs": [],
   "source": [
    "lang,topic,hours='hi','BUSINESS',10\n",
    "topic_url = gfeed.make_topic_url(lang,topic,hours)"
   ]
  },
  {
   "cell_type": "code",
   "execution_count": 4,
   "id": "8fba7885",
   "metadata": {
    "scrolled": true
   },
   "outputs": [
    {
     "name": "stdout",
     "output_type": "stream",
     "text": [
      "we got total :  30  articles\n"
     ]
    }
   ],
   "source": [
    "lang,topic,hours='hi','BUSINESS',10\n",
    "topic_url = gfeed.make_topic_url(lang,topic,hours)\n",
    "articles = gfeed.get_articles(topic_url,feature_image=False,source=True)\n",
    "print(\"we got total : \",len(articles),\" articles\")"
   ]
  },
  {
   "cell_type": "code",
   "execution_count": 5,
   "id": "de44fb7b",
   "metadata": {},
   "outputs": [
    {
     "data": {
      "text/plain": [
       "dict_keys(['title', 'link', 'pubDate', 'description', 'source_name', 'source_url'])"
      ]
     },
     "execution_count": 5,
     "metadata": {},
     "output_type": "execute_result"
    }
   ],
   "source": [
    "articles[0].keys()"
   ]
  },
  {
   "cell_type": "code",
   "execution_count": 6,
   "id": "2b4e1f5a",
   "metadata": {},
   "outputs": [
    {
     "data": {
      "text/plain": [
       "'https://feeds.abplive.com/onecms/images/uploaded-images/2022/04/21/effd36ca079d2371d0b5bdd1df3d539c_original.jpeg?impolicy=abp_cdn&imwidth=1200&imheight=628'"
      ]
     },
     "execution_count": 6,
     "metadata": {},
     "output_type": "execute_result"
    }
   ],
   "source": [
    "gfeed.get_feature_image(articles[0]['link'])"
   ]
  },
  {
   "cell_type": "code",
   "execution_count": 7,
   "id": "043ae1e3",
   "metadata": {},
   "outputs": [
    {
     "data": {
      "text/plain": [
       "{'title': 'LIC IPO GMP Today: इस सबसे बड़े आईपीओ का आखिर क्यों गिर रहा है ग्रे मार्केट में भाव, आखिरी - ABP न्यूज़',\n",
       " 'link': 'https://news.google.com/__i/rss/rd/articles/CBMic2h0dHBzOi8vd3d3LmFicGxpdmUuY29tL2J1c2luZXNzL2xpYy1pcG8tZ21wLXRvZGF5LXNoYXJlLWFsbG90bWVudC1kYXRlLXN0YXR1cy1saXN0aW5nLWFsbC15b3UtbmVlZC10by1rbm93LTIxMjAxMzXSAQA?oc=5',\n",
       " 'pubDate': 'Tue, 10 May 2022 09:02:00 GMT',\n",
       " 'description': '<ol><li><a href=\"https://news.google.com/__i/rss/rd/articles/CBMic2h0dHBzOi8vd3d3LmFicGxpdmUuY29tL2J1c2luZXNzL2xpYy1pcG8tZ21wLXRvZGF5LXNoYXJlLWFsbG90bWVudC1kYXRlLXN0YXR1cy1saXN0aW5nLWFsbC15b3UtbmVlZC10by1rbm93LTIxMjAxMzXSAQA?oc=5\" target=\"_blank\">LIC IPO GMP Today: इस सबसे बड़े आईपीओ का आखिर क्यों गिर रहा है ग्रे मार्केट में भाव, आखिरी</a>&nbsp;&nbsp;<font color=\"#6f6f6f\">ABP न्यूज़</font></li><li><a href=\"https://news.google.com/__i/rss/rd/articles/CBMinAFodHRwczovL3d3dy5hYWp0YWsuaW4vYnVzaW5lc3MvbmV3cy9zdG9yeS9saWMtaXBvLXNoYXJlLWFsbG90bWVudC1mb3ItcG9saWN5aG9sZGVycy1lbXBsb3llZXMtcmV0YWlsLWludmVzdG9ycy1jaGFuY2VzLXJlZnVuZC1zdGF0dXMtdHV0cy0xNDYxMTQ3LTIwMjItMDUtMTDSAQA?oc=5\" target=\"_blank\">LIC IPO: आपने भी किया है एलआईसी आईपीओ में अप्लाई? जानें शेयर अलॉट होने के कितने चांस</a>&nbsp;&nbsp;<font color=\"#6f6f6f\">Aaj Tak</font></li><li><a href=\"https://news.google.com/__i/rss/rd/articles/CBMikQFodHRwczovL2hpbmRpLm1vbmV5Y29udHJvbC5jb20vbmV3cy9pcG8vbGljLWlwby1rbm93LXdoYXQtaWYtbGljLXNoYXJlLWxpc3QtYXQtMTAtdG8tMTItcGVyY2VudC1wcmVtaXVtLWhvdy1tdWNoLXByb2ZpdC13aWxsLXlvdS1tYWtlLTU2NzU2MS5odG1s0gEA?oc=5\" target=\"_blank\">LIC IPO: जानिए लिस्टिंग पर कितना होगा प्रॉफिट?</a>&nbsp;&nbsp;<font color=\"#6f6f6f\">मनी कंट्रोल</font></li><li><a href=\"https://news.google.com/__i/rss/rd/articles/CBMigAFodHRwczovL25hdmJoYXJhdHRpbWVzLmluZGlhdGltZXMuY29tL2J1c2luZXNzL2J1c2luZXNzLW5ld3Mvc2hhcmUtYWxsb3RtZW50LXRvLWxpYy1pbnZlc3RvcnMtb24tbWF5LTEyL2FydGljbGVzaG93LzkxNDQ5NzAwLmNtc9IBAA?oc=5\" target=\"_blank\">एलआईसी के निवेशकों को शेयर आवंटन 12 मई को</a>&nbsp;&nbsp;<font color=\"#6f6f6f\">Navbharat Times</font></li><li><a href=\"https://news.google.com/__i/rss/rd/articles/CBMimwFodHRwczovL3d3dy5hYWp0YWsuaW4vYnVzaW5lc3MvbmV3cy9zdG9yeS9kaXBhbS1zZWNyZXRhcnktb24tbGljLWlwby1kb21lc3RpYy1pbnZlc3RvcnMtcG9saWN5aG9sZGVycy1lbXBsb3llZXMtcmV0YWlsLXN1YnNjcmlwdGlvbi10dXRzLTE0NjEwMTctMjAyMi0wNS0xMNIBAA?oc=5\" target=\"_blank\">LIC IPO में दिखी आत्मनिर्भर भारत की झलक, आम इन्वेस्टर्स ने बनाया सफल: DIPAM सेक्रेटरी</a>&nbsp;&nbsp;<font color=\"#6f6f6f\">Aaj Tak</font></li><li><strong><a href=\"https://news.google.com/stories/CAAqNggKIjBDQklTSGpvSmMzUnZjbmt0TXpZd1NoRUtEd2kxN29DVEJSR2N3d2p2cVdNUl9pZ0FQAQ?oc=5\" target=\"_blank\">Google समाचार पर पूरी खबर देखें</a></strong></li></ol>',\n",
       " 'source_name': 'ABP न्यूज़',\n",
       " 'source_url': 'https://www.abplive.com'}"
      ]
     },
     "execution_count": 7,
     "metadata": {},
     "output_type": "execute_result"
    }
   ],
   "source": [
    "articles[0]"
   ]
  },
  {
   "cell_type": "code",
   "execution_count": null,
   "id": "9f629447",
   "metadata": {},
   "outputs": [],
   "source": [
    "r = requests.get(articles[0]['link']) \n",
    "r.url"
   ]
  },
  {
   "cell_type": "code",
   "execution_count": null,
   "id": "09c49be1",
   "metadata": {},
   "outputs": [],
   "source": [
    "# un_formatted_articles = gfeed.get_articles(topic_url,False)\n",
    "un_formatted_articles[0].source."
   ]
  },
  {
   "cell_type": "code",
   "execution_count": null,
   "id": "ff0b8fdd",
   "metadata": {},
   "outputs": [],
   "source": [
    "# part = un_formatted_articles[0]\n",
    "part.source.get_text()"
   ]
  },
  {
   "cell_type": "markdown",
   "id": "f8943aff",
   "metadata": {},
   "source": [
    "### Scrape results from google search"
   ]
  },
  {
   "cell_type": "code",
   "execution_count": null,
   "id": "43190412",
   "metadata": {},
   "outputs": [],
   "source": [
    "from GoogleSearch import *"
   ]
  },
  {
   "cell_type": "raw",
   "id": "d5b62db7",
   "metadata": {},
   "source": [
    "PARAMS ---\n",
    "use_proxy_param --- It enables to use proxy for scrapping\n",
    "use_session     --- It uses request-html instead of requests\n",
    "logger          --- if you want to log // you can pass your logger"
   ]
  },
  {
   "cell_type": "code",
   "execution_count": null,
   "id": "85c67d06",
   "metadata": {},
   "outputs": [],
   "source": [
    "gs = GSearch(use_proxy_param=False,use_session=True)"
   ]
  },
  {
   "cell_type": "code",
   "execution_count": null,
   "id": "916c3a7f",
   "metadata": {
    "scrolled": true
   },
   "outputs": [],
   "source": [
    "query = \"Cooking\" ## search term \n",
    "## search type \n",
    "query,search_type,site,page_count = query, \"\" , \"twitter.com\" , 5\n",
    "query_urls = gs._generate_urls_(query,search_type,page_count,site=site)\n",
    "query_results = gs.get_results(query_urls[0:1])\n",
    "print(len(query_results))"
   ]
  },
  {
   "cell_type": "code",
   "execution_count": null,
   "id": "41e72b6c",
   "metadata": {},
   "outputs": [],
   "source": [
    "query_results[:3]"
   ]
  }
 ],
 "metadata": {
  "kernelspec": {
   "display_name": "Python 3",
   "language": "python",
   "name": "python3"
  },
  "language_info": {
   "codemirror_mode": {
    "name": "ipython",
    "version": 3
   },
   "file_extension": ".py",
   "mimetype": "text/x-python",
   "name": "python",
   "nbconvert_exporter": "python",
   "pygments_lexer": "ipython3",
   "version": "3.8.8"
  }
 },
 "nbformat": 4,
 "nbformat_minor": 5
}
